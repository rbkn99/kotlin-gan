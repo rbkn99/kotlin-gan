{
 "cells": [
  {
   "cell_type": "code",
   "execution_count": 2,
   "metadata": {},
   "outputs": [],
   "source": [
    "import math\n",
    "import torch\n",
    "import torch.nn as nn"
   ]
  },
  {
   "cell_type": "code",
   "execution_count": null,
   "metadata": {},
   "outputs": [],
   "source": [
    "class LSTMCell(nn.Module):\n",
    "    def __init__(self, x_size, h_size):\n",
    "        super(LSTMCell, self).__init__()\n",
    "        self.x_size = x_size\n",
    "        self.h_size = h_size\n",
    "        self.W = nn.Parameter(torch.Tensor(x_size, h_size * 4))\n",
    "        self.U = nn.Parameter(torch.Tensor(h_size, h_size * 4))\n",
    "        self.bias = nn.Parameter(torch.Tensor(h_size * 4))\n",
    "        self.embeddings = action_embeddings\n",
    "        self.mask = mask\n",
    "        self.parent_stack = []\n",
    "        self.children_stack = []\n",
    "        self.init_stacks()\n",
    "    \n",
    "    def init_stacks(self):\n",
    "        pass\n",
    "\n",
    "    def forward(self, a_prev, p_t, state):\n",
    "        h_t, c_t = state\n",
    "        x_t = torch.cat((a_prev, p_t), 0)\n",
    "        parent_action = self.parent_stack.pop()\n",
    "        current_var = self.children_stack.pop()\n",
    "        gates = x_t @ self.W + h_t @ self.U + self.bias\n",
    "        i_t, f_t, g_t, o_t = (\n",
    "            torch.sigmoid(gates[:, :self.h_size]),  # input\n",
    "            torch.sigmoid(gates[:, self.h_size:self.h_size * 2]),  # forget\n",
    "            torch.tanh(gates[:, HS * 2:self.h_size * 3]),\n",
    "            torch.sigmoid(gates[:, self.h_size * 3:]),  # output\n",
    "        )\n",
    "        o_masked = nn.Softmax(dim=0)(o_t)\n",
    "        c_t = f_t * c_t + i_t * g_t\n",
    "        h_t = o_t * torch.tanh(c_t)\n",
    "        \n",
    "\n",
    "        ingate = torch.sigmoid(ingate)\n",
    "        forgetgate = torch.sigmoid(forgetgate)\n",
    "        cellgate = torch.tanh(cellgate)\n",
    "        outgate = torch.sigmoid(outgate)\n",
    "\n",
    "        cy = (forgetgate * cx) + (ingate * cellgate)\n",
    "        hy = outgate * torch.tanh(cy)\n",
    "\n",
    "        return hy, (hy, cy)"
   ]
  },
  {
   "cell_type": "code",
   "execution_count": null,
   "metadata": {},
   "outputs": [],
   "source": []
  }
 ],
 "metadata": {
  "kernelspec": {
   "display_name": "Python 3",
   "language": "python",
   "name": "python3"
  },
  "language_info": {
   "codemirror_mode": {
    "name": "ipython",
    "version": 3
   },
   "file_extension": ".py",
   "mimetype": "text/x-python",
   "name": "python",
   "nbconvert_exporter": "python",
   "pygments_lexer": "ipython3",
   "version": "3.8.6"
  }
 },
 "nbformat": 4,
 "nbformat_minor": 4
}
